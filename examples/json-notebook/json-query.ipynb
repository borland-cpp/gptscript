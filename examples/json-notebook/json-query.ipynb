{
 "cells": [
  {
   "cell_type": "code",
   "execution_count": null,
   "id": "98d5cd09-dfe4-4bbe-b1ba-344a535fa763",
   "metadata": {},
   "outputs": [],
   "source": [
    "pip install gptscript"
   ]
  },
  {
   "cell_type": "code",
   "execution_count": null,
   "id": "144cb0f4-7936-4701-9246-e948c09f94c5",
   "metadata": {},
   "outputs": [],
   "source": [
    "from gptscript.command import stream_exec\n",
    "from gptscript.tool import Tool\n",
    "\n",
    "t = Tool(tools=[\"github.com/gptscript-ai/json-query\",\"sys.download\",\"sys.read\"],\n",
    "         instructions=\"\"\"\n",
    "download the contents from this url https://data.transportation.gov/api/views/anj8-k6f5/rows.json?accessType=DOWNLOAD and save to file ai-usecases.json\n",
    "Wait until the file is downloaded before proceeding.\n",
    "Using the downloaded file, determine which agencies have AI initiatives and list a summary of each.\n",
    "\"\"\",\n",
    "        )\n",
    "\n",
    "results, err, wait = stream_exec(t)\n",
    "for line in err:\n",
    "    print(line)\n",
    "print(results.read())"
   ]
  }
 ],
 "metadata": {
  "kernelspec": {
   "display_name": "venv",
   "language": "python",
   "name": "venv"
  },
  "language_info": {
   "codemirror_mode": {
    "name": "ipython",
    "version": 3
   },
   "file_extension": ".py",
   "mimetype": "text/x-python",
   "name": "python",
   "nbconvert_exporter": "python",
   "pygments_lexer": "ipython3",
   "version": "3.12.2"
  }
 },
 "nbformat": 4,
 "nbformat_minor": 5
}
